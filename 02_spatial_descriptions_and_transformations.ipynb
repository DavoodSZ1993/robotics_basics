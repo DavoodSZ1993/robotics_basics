{
  "nbformat": 4,
  "nbformat_minor": 0,
  "metadata": {
    "colab": {
      "provenance": [],
      "authorship_tag": "ABX9TyODpxK/3Zd308SWHaJsCt9J",
      "include_colab_link": true
    },
    "kernelspec": {
      "name": "python3",
      "display_name": "Python 3"
    },
    "language_info": {
      "name": "python"
    }
  },
  "cells": [
    {
      "cell_type": "markdown",
      "metadata": {
        "id": "view-in-github",
        "colab_type": "text"
      },
      "source": [
        "<a href=\"https://colab.research.google.com/github/DavoodSZ1993/robotics_basics/blob/main/02_spatial_descriptions_and_transformations.ipynb\" target=\"_parent\"><img src=\"https://colab.research.google.com/assets/colab-badge.svg\" alt=\"Open In Colab\"/></a>"
      ]
    },
    {
      "cell_type": "markdown",
      "source": [
        "## Spatial Description and Transformers"
      ],
      "metadata": {
        "id": "uco4SNfxtgJO"
      }
    },
    {
      "cell_type": "markdown",
      "source": [
        "* Translated frames:\n",
        "$$\n",
        "{}^AP = {}^BP + {}AP_{BORG}\n",
        "$$\n",
        "\n",
        "* Rotated frames:\n",
        "$$\n",
        "{}^AP = {}_B^AR{}^BP\n",
        "$$\n",
        "\n",
        "* Rotation matrix properties\n",
        "$$\n",
        "{}_B^AR = {}_A^BR^{-1} = {}_A^BR^T\n",
        "$$\n",
        "\n",
        "* General transformation mapping\n",
        "$$\n",
        "{}^AP = {}_B^AR{}^BP + {}^AP_{BORG} ⇒ {}^AP = {}_B^AT {}^BP ⇒ Homogeneous \\space Transform\n",
        "$$"
      ],
      "metadata": {
        "id": "llza87pRuRQt"
      }
    },
    {
      "cell_type": "markdown",
      "source": [
        "### Example 2.1"
      ],
      "metadata": {
        "id": "xKq2mjRQtBVn"
      }
    },
    {
      "cell_type": "code",
      "execution_count": 23,
      "metadata": {
        "id": "Q4pOfzWqlS3F"
      },
      "outputs": [],
      "source": [
        "import numpy as np"
      ]
    },
    {
      "cell_type": "code",
      "source": [
        "rotation_angle = 30 * np.pi/180\n",
        "rotation_matrix = np.zeros((3, 3))\n",
        "\n",
        "rotation_matrix[0, 0] = np.cos(rotation_angle)\n",
        "rotation_matrix[0, 1] = -np.sin(rotation_angle)\n",
        "rotation_matrix[0, 2] = 0\n",
        "\n",
        "rotation_matrix[1, 0] = np.sin(rotation_angle)\n",
        "rotation_matrix[1, 1] = np.cos(rotation_angle)\n",
        "rotation_matrix[1, 2] = 0\n",
        "\n",
        "rotation_matrix[2, 0] = 0\n",
        "rotation_matrix[2, 1] = 0\n",
        "rotation_matrix[2, 2] = 1\n",
        "\n",
        "print(\"The rotation matrix is: \\n\", rotation_matrix)"
      ],
      "metadata": {
        "colab": {
          "base_uri": "https://localhost:8080/"
        },
        "id": "nFAMHuC1lc_I",
        "outputId": "2e3a9486-17f2-4e85-dc47-60a5f8e770b7"
      },
      "execution_count": 24,
      "outputs": [
        {
          "output_type": "stream",
          "name": "stdout",
          "text": [
            "The rotation matrix is: \n",
            " [[ 0.8660254 -0.5        0.       ]\n",
            " [ 0.5        0.8660254  0.       ]\n",
            " [ 0.         0.         1.       ]]\n"
          ]
        }
      ]
    },
    {
      "cell_type": "code",
      "source": [
        "P_B = np.transpose(np.array([0.0, 2.0, 0.0]))\n",
        "\n",
        "P_A = np.dot(rotation_matrix, P_B)\n",
        "print(\"P relative to frame {A}: \\n\", np.transpose(P_A))"
      ],
      "metadata": {
        "colab": {
          "base_uri": "https://localhost:8080/"
        },
        "id": "NYKAhQFprB8W",
        "outputId": "f4da64e7-c03c-432c-b25e-68caafaf0747"
      },
      "execution_count": 25,
      "outputs": [
        {
          "output_type": "stream",
          "name": "stdout",
          "text": [
            "P relative to frame {A}: \n",
            " [-1.          1.73205081  0.        ]\n"
          ]
        }
      ]
    },
    {
      "cell_type": "markdown",
      "source": [
        "### Example 2.2"
      ],
      "metadata": {
        "id": "YadHqan6DEhT"
      }
    },
    {
      "cell_type": "code",
      "source": [
        "angle_z = 30 * np.pi / 180\n",
        "trans_x = 10\n",
        "trans_y = 5\n",
        "\n",
        "T_B_A = np.array([[np.cos(angle_z), -np.sin(angle_z), 0, trans_x],\n",
        "                  [np.sin(angle_z), np.cos(angle_z),  0, trans_y],\n",
        "                  [0, 0, 1, 0],\n",
        "                  [0, 0, 0, 1]])\n",
        "\n",
        "print(T_B_A)"
      ],
      "metadata": {
        "colab": {
          "base_uri": "https://localhost:8080/"
        },
        "id": "mzxOdb5NDGvJ",
        "outputId": "49e66d49-2981-454b-b985-309f5fa85261"
      },
      "execution_count": 27,
      "outputs": [
        {
          "output_type": "stream",
          "name": "stdout",
          "text": [
            "[[ 0.8660254 -0.5        0.        10.       ]\n",
            " [ 0.5        0.8660254  0.         5.       ]\n",
            " [ 0.         0.         1.         0.       ]\n",
            " [ 0.         0.         0.         1.       ]]\n"
          ]
        }
      ]
    },
    {
      "cell_type": "code",
      "source": [
        "P_B = np.transpose(np.array([3.0, 7.0, 0.0, 1]))\n",
        "P_A = np.dot(T_B_A, P_B)\n",
        "\n",
        "print(P_A)"
      ],
      "metadata": {
        "colab": {
          "base_uri": "https://localhost:8080/"
        },
        "id": "hDrrAnJHEReC",
        "outputId": "c36bb5be-5923-4bc4-944b-6b44e0824525"
      },
      "execution_count": 31,
      "outputs": [
        {
          "output_type": "stream",
          "name": "stdout",
          "text": [
            "[ 9.09807621 12.56217783  0.          1.        ]\n"
          ]
        }
      ]
    }
  ]
}