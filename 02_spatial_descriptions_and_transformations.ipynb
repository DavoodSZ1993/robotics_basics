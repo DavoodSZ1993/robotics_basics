{
  "nbformat": 4,
  "nbformat_minor": 0,
  "metadata": {
    "colab": {
      "provenance": [],
      "authorship_tag": "ABX9TyPZm4SUctLKCBWUrfH29ZCd",
      "include_colab_link": true
    },
    "kernelspec": {
      "name": "python3",
      "display_name": "Python 3"
    },
    "language_info": {
      "name": "python"
    }
  },
  "cells": [
    {
      "cell_type": "markdown",
      "metadata": {
        "id": "view-in-github",
        "colab_type": "text"
      },
      "source": [
        "<a href=\"https://colab.research.google.com/github/DavoodSZ1993/robotics_basics/blob/main/02_spatial_descriptions_and_transformations.ipynb\" target=\"_parent\"><img src=\"https://colab.research.google.com/assets/colab-badge.svg\" alt=\"Open In Colab\"/></a>"
      ]
    },
    {
      "cell_type": "code",
      "execution_count": 1,
      "metadata": {
        "id": "Q4pOfzWqlS3F"
      },
      "outputs": [],
      "source": [
        "import numpy as np"
      ]
    },
    {
      "cell_type": "code",
      "source": [
        "rotation_angle = 30 * np.pi/180\n",
        "rotation_matrix = np.zeros((3, 3))\n",
        "\n",
        "rotation_matrix[0, 0] = np.cos(rotation_angle)\n",
        "rotation_matrix[0, 1] = -np.sin(rotation_angle)\n",
        "rotation_matrix[0, 2] = 0\n",
        "\n",
        "rotation_matrix[1, 0] = np.sin(rotation_angle)\n",
        "rotation_matrix[1, 1] = -np.cos(rotation_angle)\n",
        "rotation_matrix[1, 2] = 0\n",
        "\n",
        "rotation_matrix[2, 0] = 0\n",
        "rotation_matrix[2, 1] = 0\n",
        "rotation_matrix[2, 2] = 1\n",
        "\n",
        "print(\"The rotation matrix is: \\n\", rotation_matrix)"
      ],
      "metadata": {
        "colab": {
          "base_uri": "https://localhost:8080/"
        },
        "id": "nFAMHuC1lc_I",
        "outputId": "2e7be471-63e1-40d0-d3dc-9b2ab5d0d79e"
      },
      "execution_count": 12,
      "outputs": [
        {
          "output_type": "stream",
          "name": "stdout",
          "text": [
            "The rotation matrix is: \n",
            " [[ 0.8660254 -0.5        0.       ]\n",
            " [ 0.5       -0.8660254  0.       ]\n",
            " [ 0.         0.         1.       ]]\n"
          ]
        }
      ]
    },
    {
      "cell_type": "code",
      "source": [
        "P_B = np.transpose(np.array([0.0, 2.0, 0.0]))\n",
        "\n",
        "P_A = np.dot(rotation_matrix, P_B)\n",
        "P_A"
      ],
      "metadata": {
        "colab": {
          "base_uri": "https://localhost:8080/"
        },
        "id": "NYKAhQFprB8W",
        "outputId": "62018741-7352-4167-d951-c0d49d78ccdc"
      },
      "execution_count": 19,
      "outputs": [
        {
          "output_type": "execute_result",
          "data": {
            "text/plain": [
              "array([-1.        , -1.73205081,  0.        ])"
            ]
          },
          "metadata": {},
          "execution_count": 19
        }
      ]
    }
  ]
}